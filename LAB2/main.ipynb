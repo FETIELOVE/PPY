{
  "cells": [
    {
      "cell_type": "code",
      "execution_count": 1,
      "metadata": {
        "colab": {
          "base_uri": "https://localhost:8080/"
        },
        "id": "P-COgj97ZmUe",
        "outputId": "bf22b679-2345-4d00-9165-236a74e08b7e"
      },
      "outputs": [
        {
          "name": "stdout",
          "output_type": "stream",
          "text": [
            "Sorted list: [1, 2, 5, 8, 9]\n"
          ]
        }
      ],
      "source": [
        "3.\n",
        "#Input\n",
        "input_numbers = input(\"Enter a series of space-separated integers: \")\n",
        "# Convert Input\n",
        "numbers_list = [int(num) for num in input_numbers.split()]\n",
        "# Sorting\n",
        "numbers_list.sort()\n",
        "# Print Output\n",
        "print(\"Sorted list:\", numbers_list)"
      ]
    },
    {
      "cell_type": "code",
      "execution_count": 2,
      "metadata": {
        "colab": {
          "base_uri": "https://localhost:8080/"
        },
        "id": "KvHhtLqubBN7",
        "outputId": "22df6fe4-efa2-464c-e7e0-239ecd502fe9"
      },
      "outputs": [
        {
          "name": "stdout",
          "output_type": "stream",
          "text": [
            "Sorted list: [1, 2, 5, 8, 9]\n",
            "Sorted tuple: (1, 2, 5, 8, 9)\n"
          ]
        }
      ],
      "source": [
        "4.\n",
        "# Input\n",
        "input_numbers = input(\"Enter a series of space-separated integers: \")\n",
        "\n",
        "# Convert Input\n",
        "numbers_list = [int(num) for num in input_numbers.split()]\n",
        "numbers_tuple = tuple(numbers_list)\n",
        "\n",
        "# Sorting\n",
        "sorted_list = sorted(numbers_list)\n",
        "sorted_tuple = tuple(sorted_list)\n",
        "\n",
        "# Print Output\n",
        "print(\"Sorted list:\", sorted_list)\n",
        "print(\"Sorted tuple:\", sorted_tuple)"
      ]
    },
    {
      "cell_type": "code",
      "execution_count": 3,
      "metadata": {},
      "outputs": [
        {
          "name": "stdout",
          "output_type": "stream",
          "text": [
            "Tuples are immutable and cannot be modified.\n",
            "Modified list: [2, 20, 8, 1, 9, 10]\n",
            "Tuple remains unchanged: (5, 2, 8, 1, 9)\n"
          ]
        }
      ],
      "source": [
        "5.\n",
        "#input\n",
        "input_numbers = input(\"Enter a series of space-separated integers: \")\n",
        "\n",
        "# Convert Input\n",
        "numbers_list = [int(num) for num in input_numbers.split()]  # Remove parentheses\n",
        "numbers_tuple = tuple(numbers_list)\n",
        "\n",
        "\n",
        "# Manipulate List\n",
        "# Append 10 to the list\n",
        "numbers_list.append(10)\n",
        "# Insert 20 at index 2\n",
        "numbers_list.insert(2, 20)\n",
        "# Remove one element from the list\n",
        "numbers_list.remove(5)\n",
        "\n",
        "# Attempt to Modify Tuple (this will raise an error)\n",
        "\n",
        "\n",
        "try:\n",
        "\n",
        "    numbers_tuple.append(10)\n",
        "except AttributeError:\n",
        "    print(\"Tuples are immutable and cannot be modified.\")\n",
        "\n",
        "try:\n",
        "    #   Insert 20 at index 2\n",
        "    numbers_tuple.insert(2, 20)\n",
        "except AttributeError:\n",
        "    pass  # Insert operation will also raise an error\n",
        "try:\n",
        "    #   Remove one element  from the tuple\n",
        "    numbers_tuple.remove(8)\n",
        "except AttributeError:\n",
        "    pass  # Insert operation will also raise an error\n",
        "# Print Output\n",
        "print(\"Modified list:\", numbers_list)\n",
        "print(\"Tuple remains unchanged:\", numbers_tuple)"
      ]
    },
    {
      "cell_type": "code",
      "execution_count": 5,
      "metadata": {},
      "outputs": [
        {
          "name": "stdout",
          "output_type": "stream",
          "text": [
            "Tuples are immutable and cannot be modified.\n",
            "Original Dictionary: {5: 25, 2: 4, 8: 64, 1: 1, 9: 81}\n",
            "Modified list: [5, 2, 20, 1, 9, 10]\n",
            "Tuple remains unchanged: (5, 2, 8, 1, 9)\n",
            "Union of set: {1, 2, 5, 9, 10, 11, 12}\n",
            "Intersection of set: {8, 5}\n",
            "Difference of set: {9}\n",
            "Updated Dictionary: {5: 25, 2: 4, 1: 1, 9: 81, 11: 121}\n"
          ]
        }
      ],
      "source": [
        "6.\n",
        "input_numbers = input(\"Enter a series of space-separated integers: \")\n",
        "\n",
        "# # Convert Input\n",
        "numbers_list = [int(num) for num in input_numbers.split()]\n",
        "numbers_tuple = tuple(numbers_list)\n",
        "\n",
        "# # Manipulate List\n",
        "numbers_list.append(10)\n",
        "numbers_list.insert(2, 20)\n",
        "numbers_list.remove(8)\n",
        "\n",
        "# # Attempt to Modify Tuple (this will raise an error)\n",
        "try:\n",
        "    numbers_tuple.append(10)\n",
        "except AttributeError:\n",
        "    print(\"Tuples are immutable and cannot be modified.\")\n",
        "    try:\n",
        "        numbers_tuple.insert(2, 20)\n",
        "    except AttributeError:\n",
        "        pass  # insert operation will also raise an error\n",
        "    try:\n",
        "        numbers_tuple.remove(8)\n",
        "    except AttributeError:\n",
        "        pass  # remove one element from the tuple will also raise an error\n",
        "\n",
        "# # Set Operations\n",
        "set1 = {1, 2, 5, 9, 8, 10}\n",
        "set2 = {8, 5, 11, 12}\n",
        "set_union = set1.union(set2)\n",
        "set_union.discard(8)\n",
        "set_intersection = set1.intersection(set2)\n",
        "set_difference = set1 - set2\n",
        "for number in (1, 2, 10):\n",
        "    set_difference.remove(number)\n",
        "\n",
        "#  Dictionary Operations\n",
        "numbers_dict = {5: 25, 2: 4, 8: 64, 1: 1, 9: 81}\n",
        "print(\"Original Dictionary:\", numbers_dict)\n",
        "numbers_dict[11] = 121  # Add a new key-value pair\n",
        "del numbers_dict[8]  # Delete an existing key-value pair\n",
        "\n",
        "# # Print Output\n",
        "print(\"Modified list:\", numbers_list)\n",
        "print(\"Tuple remains unchanged:\", numbers_tuple)\n",
        "print(\"Union of set:\", set_union)\n",
        "print(\"Intersection of set:\", set_intersection)\n",
        "print(\"Difference of set:\", set_difference)\n",
        "print(\"Updated Dictionary:\", numbers_dict)\n",
        "\n",
        "\n",
        "       \n",
        "\n"
      ]
    },
    {
      "cell_type": "code",
      "execution_count": 6,
      "metadata": {},
      "outputs": [
        {
          "name": "stdout",
          "output_type": "stream",
          "text": [
            "Tuples are immutable and cannot be modified.\n",
            "Original Dictionary: {5: 25, 2: 4, 8: 64, 1: 1, 9: 81}\n",
            "List to Tuple: (5, 2, 20, 1, 9, 10)\n",
            "List to Set: {1, 2, 5, 9, 10, 20}\n",
            "List to Dictionary: {5: 25, 2: 4, 20: 400, 1: 1, 9: 81, 10: 100}\n",
            "Tuple to List: [5, 2, 8, 1, 9]\n",
            "Tuple to Set: {1, 2, 5, 8, 9}\n",
            "Tuple to Dictionary: {5: 25, 2: 4, 8: 64, 1: 1, 9: 81}\n",
            "Set to List: [1, 2, 5, 9, 10, 20]\n",
            "Set to Tuple: (1, 2, 5, 9, 10, 20)\n",
            "Set to Dictionary: {1: 1, 2: 4, 5: 25, 9: 81, 10: 100, 20: 400}\n",
            "Dictionary to List: [5, 2, 1, 9, 11, 10, 20]\n",
            "Dictionary to Tuple: (5, 2, 1, 9, 11, 10, 20)\n",
            "Dictionary to Set: {1, 2, 20, 5, 9, 10, 11}\n"
          ]
        }
      ],
      "source": [
        "7.\n",
        "input_numbers = input(\"Enter a series of space-separated integers: \")\n",
        "\n",
        "# Convert Input\n",
        "numbers_list = [int(num) for num in input_numbers.split()]\n",
        "numbers_tuple = tuple(numbers_list)\n",
        "\n",
        "# Manipulate List\n",
        "numbers_list.append(10)\n",
        "numbers_list.insert(2, 20)\n",
        "numbers_list.remove(8)\n",
        "\n",
        "# Attempt to Modify Tuple (this will raise an error)\n",
        "try:\n",
        "    numbers_tuple.append(10)\n",
        "except AttributeError:\n",
        "    print(\"Tuples are immutable and cannot be modified.\")\n",
        "    try:\n",
        "        numbers_tuple.insert(2, 20)\n",
        "    except AttributeError:\n",
        "        pass  # insert operation will also raise an error\n",
        "    try:\n",
        "        numbers_tuple.remove(8)\n",
        "    except AttributeError:\n",
        "        pass  # remove one element from the tuple will also raise an error\n",
        "\n",
        "# Set Operations\n",
        "set1 = {1, 2, 5, 9, 8, 10}\n",
        "set2 = {8, 5, 11, 12}\n",
        "set_union = set1.union(set2)\n",
        "set_union.discard(8)\n",
        "set_intersection = set1.intersection(set2)\n",
        "set_difference = set1 - set2\n",
        "for number in (1, 2, 10):\n",
        "    set_difference.remove(number)\n",
        "\n",
        "# Dictionary Operations\n",
        "numbers_dict = {5: 25, 2: 4, 8: 64, 1: 1, 9: 81}\n",
        "print(\"Original Dictionary:\", numbers_dict)\n",
        "numbers_dict[11] = 121  # Add a new key-value pair\n",
        "del numbers_dict[8]  # Delete an existing key-value pair\n",
        "\n",
        "# Type Conversion\n",
        "list_to_tuple = tuple(numbers_list)\n",
        "list_to_set = set(numbers_list)\n",
        "list_to_dict = {num: num**2 for num in numbers_list}\n",
        "\n",
        "tuple_to_list = list(numbers_tuple)\n",
        "tuple_to_set = set(numbers_tuple)\n",
        "tuple_to_dict = {num: num**2 for num in numbers_tuple}\n",
        "\n",
        "\n",
        "set_to_dict = {num: num**2 for num in set_union - {11, 12}}  # Include 20 in the set\n",
        "set_to_dict[20] = 400  # Add the missing key-value pair\n",
        "set_to_list = list(set_to_dict.keys())  # Convert dictionary keys to list\n",
        "set_to_tuple = tuple(set_to_dict.keys())  # Convert dictionary keys to tuple\n",
        "\n",
        "dict_to_list = list(numbers_dict.keys()) + [10, 20]\n",
        "dict_to_tuple = tuple(list(numbers_dict.keys()) + [10, 20])\n",
        "dict_to_set = set(numbers_dict.keys()) | {10, 20}\n",
        "\n",
        "\n",
        "# Print Output\n",
        "print(\"List to Tuple:\", list_to_tuple)\n",
        "print(\"List to Set:\", list_to_set)\n",
        "print(\"List to Dictionary:\", list_to_dict)\n",
        "print(\"Tuple to List:\", tuple_to_list)\n",
        "print(\"Tuple to Set:\", tuple_to_set)\n",
        "print(\"Tuple to Dictionary:\", tuple_to_dict)\n",
        "print(\"Set to List:\", set_to_list)\n",
        "print(\"Set to Tuple:\", set_to_tuple)\n",
        "print(\"Set to Dictionary:\", set_to_dict)\n",
        "print(\"Dictionary to List:\", dict_to_list)\n",
        "print(\"Dictionary to Tuple:\", dict_to_tuple)\n",
        "print(\"Dictionary to Set:\", dict_to_set)\n"
      ]
    }
  ],
  "metadata": {
    "colab": {
      "provenance": []
    },
    "kernelspec": {
      "display_name": "Python 3",
      "name": "python3"
    },
    "language_info": {
      "codemirror_mode": {
        "name": "ipython",
        "version": 3
      },
      "file_extension": ".py",
      "mimetype": "text/x-python",
      "name": "python",
      "nbconvert_exporter": "python",
      "pygments_lexer": "ipython3",
      "version": "3.12.0"
    }
  },
  "nbformat": 4,
  "nbformat_minor": 0
}
