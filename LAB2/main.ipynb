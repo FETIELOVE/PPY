{
  "nbformat": 4,
  "nbformat_minor": 0,
  "metadata": {
    "colab": {
      "provenance": []
    },
    "kernelspec": {
      "name": "python3",
      "display_name": "Python 3"
    },
    "language_info": {
      "name": "python"
    }
  },
  "cells": [
    {
      "cell_type": "code",
      "execution_count": null,
      "metadata": {
        "colab": {
          "base_uri": "https://localhost:8080/"
        },
        "id": "P-COgj97ZmUe",
        "outputId": "bf22b679-2345-4d00-9165-236a74e08b7e"
      },
      "outputs": [
        {
          "output_type": "stream",
          "name": "stdout",
          "text": [
            "Enter a series of space-separated integers:  5 2 8 1 9\n",
            "Sorted list: [1, 2, 5, 8, 9]\n"
          ]
        }
      ],
      "source": [
        "#Input\n",
        "input_numbers = input(\"Enter a series of space-separated integers: \")\n",
        "# Convert Input\n",
        "numbers_list = [int(num) for num in input_numbers.split()]\n",
        "# Sorting\n",
        "numbers_list.sort()\n",
        "# Print Output\n",
        "print(\"Sorted list:\", numbers_list)"
      ]
    },
    {
      "cell_type": "code",
      "source": [
        "# Input\n",
        "input_numbers = input(\"Enter a series of space-separated integers: \")\n",
        "\n",
        "# Convert Input\n",
        "numbers_list = [int(num) for num in input_numbers.split()]\n",
        "numbers_tuple = tuple(numbers_list)\n",
        "\n",
        "# Sorting\n",
        "sorted_list = sorted(numbers_list)\n",
        "sorted_tuple = tuple(sorted_list)\n",
        "\n",
        "# Print Output\n",
        "print(\"Sorted list:\", sorted_list)\n",
        "print(\"Sorted tuple:\", sorted_tuple)"
      ],
      "metadata": {
        "colab": {
          "base_uri": "https://localhost:8080/"
        },
        "id": "KvHhtLqubBN7",
        "outputId": "22df6fe4-efa2-464c-e7e0-239ecd502fe9"
      },
      "execution_count": null,
      "outputs": [
        {
          "output_type": "stream",
          "name": "stdout",
          "text": [
            "Enter a series of space-separated integers: 5 2 8 1 9\n",
            "Sorted list: [1, 2, 5, 8, 9]\n",
            "Sorted tuple: (1, 2, 5, 8, 9)\n"
          ]
        }
      ]
    }
  ]
}
